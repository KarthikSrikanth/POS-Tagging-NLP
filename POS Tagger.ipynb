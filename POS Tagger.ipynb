{
 "cells": [
  {
   "cell_type": "code",
   "execution_count": 1,
   "id": "392370c8",
   "metadata": {
    "execution": {
     "iopub.execute_input": "2021-10-28T18:35:21.150863Z",
     "iopub.status.busy": "2021-10-28T18:35:21.149327Z",
     "iopub.status.idle": "2021-10-28T18:35:27.090863Z",
     "shell.execute_reply": "2021-10-28T18:35:27.089897Z",
     "shell.execute_reply.started": "2021-10-28T18:26:40.273354Z"
    },
    "papermill": {
     "duration": 5.965878,
     "end_time": "2021-10-28T18:35:27.091018",
     "exception": false,
     "start_time": "2021-10-28T18:35:21.125140",
     "status": "completed"
    },
    "tags": []
   },
   "outputs": [],
   "source": [
    "import warnings\n",
    "warnings.filterwarnings(\"ignore\")\n",
    "\n",
    "import nltk\n",
    "from nltk import word_tokenize\n",
    "from nltk.corpus import conll2000 as cl\n",
    "from nltk.corpus import brown as br\n",
    "\n",
    "import pprint\n",
    "\n",
    "from sklearn.model_selection import train_test_split\n",
    "import tensorflow as tf\n",
    "from tensorflow.keras.preprocessing.text import Tokenizer\n",
    "from tensorflow.keras.preprocessing.sequence import pad_sequences\n",
    "from tensorflow.keras.models import Sequential\n",
    "from tensorflow.keras.layers import Embedding, LSTM, Dense\n",
    "from tensorflow.keras.callbacks import ModelCheckpoint, EarlyStopping\n",
    "from tensorflow.keras.utils import to_categorical\n",
    "\n",
    "import numpy as np\n",
    "import seaborn as sns\n",
    "from matplotlib import pyplot as plt"
   ]
  },
  {
   "cell_type": "code",
   "execution_count": 2,
   "id": "6a25d0cf",
   "metadata": {
    "execution": {
     "iopub.execute_input": "2021-10-28T18:35:27.135355Z",
     "iopub.status.busy": "2021-10-28T18:35:27.134705Z",
     "iopub.status.idle": "2021-10-28T18:35:35.575384Z",
     "shell.execute_reply": "2021-10-28T18:35:35.574646Z",
     "shell.execute_reply.started": "2021-10-28T18:26:40.282651Z"
    },
    "papermill": {
     "duration": 8.463959,
     "end_time": "2021-10-28T18:35:35.575542",
     "exception": false,
     "start_time": "2021-10-28T18:35:27.111583",
     "status": "completed"
    },
    "tags": []
   },
   "outputs": [
    {
     "name": "stdout",
     "output_type": "stream",
     "text": [
      "[('Confidence', 'NOUN'),\n",
      " ('in', 'ADP'),\n",
      " ('the', 'DET'),\n",
      " ('pound', 'NOUN'),\n",
      " ('is', 'VERB'),\n",
      " ('widely', 'ADV'),\n",
      " ('expected', 'VERB'),\n",
      " ('to', 'PRT'),\n",
      " ('take', 'VERB'),\n",
      " ('another', 'DET'),\n",
      " ('sharp', 'ADJ'),\n",
      " ('dive', 'NOUN'),\n",
      " ('if', 'ADP'),\n",
      " ('trade', 'NOUN'),\n",
      " ('figures', 'NOUN'),\n",
      " ('for', 'ADP'),\n",
      " ('September', 'NOUN'),\n",
      " (',', '.'),\n",
      " ('due', 'ADJ'),\n",
      " ('for', 'ADP'),\n",
      " ('release', 'NOUN'),\n",
      " ('tomorrow', 'NOUN'),\n",
      " (',', '.'),\n",
      " ('fail', 'VERB'),\n",
      " ('to', 'PRT'),\n",
      " ('show', 'VERB'),\n",
      " ('a', 'DET'),\n",
      " ('substantial', 'ADJ'),\n",
      " ('improvement', 'NOUN'),\n",
      " ('from', 'ADP'),\n",
      " ('July', 'NOUN'),\n",
      " ('and', 'CONJ'),\n",
      " ('August', 'NOUN'),\n",
      " (\"'s\", 'PRT'),\n",
      " ('near-record', 'ADJ'),\n",
      " ('deficits', 'NOUN'),\n",
      " ('.', '.')]\n",
      "68288\n"
     ]
    }
   ],
   "source": [
    "tagged_sentences = cl.tagged_sents(tagset = 'universal') + br.tagged_sents(tagset = 'universal') \n",
    "\n",
    "pprint.pprint(tagged_sentences[0])\n",
    "print(len(tagged_sentences))"
   ]
  },
  {
   "cell_type": "code",
   "execution_count": 3,
   "id": "61ef3077",
   "metadata": {
    "execution": {
     "iopub.execute_input": "2021-10-28T18:35:35.623385Z",
     "iopub.status.busy": "2021-10-28T18:35:35.618288Z",
     "iopub.status.idle": "2021-10-28T18:35:35.625823Z",
     "shell.execute_reply": "2021-10-28T18:35:35.625421Z",
     "shell.execute_reply.started": "2021-10-28T18:26:48.303592Z"
    },
    "papermill": {
     "duration": 0.029704,
     "end_time": "2021-10-28T18:35:35.625927",
     "exception": false,
     "start_time": "2021-10-28T18:35:35.596223",
     "status": "completed"
    },
    "tags": []
   },
   "outputs": [],
   "source": [
    "def untag_sentences(tagged_sentences):\n",
    "    X = [] # store input sequence\n",
    "    Y = [] # store output sequence\n",
    "    \n",
    "    for sentence in tagged_sentences:\n",
    "        X_sentence = []\n",
    "        Y_sentence = []\n",
    "        for entity in sentence:         \n",
    "            X_sentence.append(entity[0])  # entity[0] contains the word\n",
    "            Y_sentence.append(entity[1])  # entity[1] contains corresponding tag\n",
    "\n",
    "        X.append(X_sentence)\n",
    "        Y.append(Y_sentence)\n",
    "    \n",
    "    num_words = len(set([word.lower() for sentence in X for word in sentence]))\n",
    "    num_tags   = len(set([word.lower() for sentence in Y for word in sentence]))\n",
    "\n",
    "    print(set([word for sentence in Y for word in sentence]))\n",
    "    print(\"Total number of tagged sentences: {}\".format(len(X)))\n",
    "    print(\"Vocabulary size: {}\".format(num_words))\n",
    "    print(\"Total number of tags: {}\".format(num_tags))\n",
    "    \n",
    "    return X, Y"
   ]
  },
  {
   "cell_type": "code",
   "execution_count": 4,
   "id": "e991478a",
   "metadata": {
    "execution": {
     "iopub.execute_input": "2021-10-28T18:35:35.669089Z",
     "iopub.status.busy": "2021-10-28T18:35:35.668328Z",
     "iopub.status.idle": "2021-10-28T18:35:42.082899Z",
     "shell.execute_reply": "2021-10-28T18:35:42.083660Z",
     "shell.execute_reply.started": "2021-10-28T18:26:48.314932Z"
    },
    "papermill": {
     "duration": 6.43831,
     "end_time": "2021-10-28T18:35:42.083820",
     "exception": false,
     "start_time": "2021-10-28T18:35:35.645510",
     "status": "completed"
    },
    "tags": []
   },
   "outputs": [
    {
     "name": "stdout",
     "output_type": "stream",
     "text": [
      "{'ADP', 'ADJ', 'CONJ', 'PRON', 'ADV', 'PRT', 'DET', '.', 'NUM', 'X', 'VERB', 'NOUN'}\n",
      "Total number of tagged sentences: 68288\n",
      "Vocabulary size: 56952\n",
      "Total number of tags: 12\n"
     ]
    }
   ],
   "source": [
    "X, Y = untag_sentences(tagged_sentences)"
   ]
  },
  {
   "cell_type": "code",
   "execution_count": 5,
   "id": "8694f6c9",
   "metadata": {
    "execution": {
     "iopub.execute_input": "2021-10-28T18:35:42.128932Z",
     "iopub.status.busy": "2021-10-28T18:35:42.128087Z",
     "iopub.status.idle": "2021-10-28T18:35:42.133374Z",
     "shell.execute_reply": "2021-10-28T18:35:42.132935Z",
     "shell.execute_reply.started": "2021-10-28T18:26:54.586932Z"
    },
    "papermill": {
     "duration": 0.029586,
     "end_time": "2021-10-28T18:35:42.133487",
     "exception": false,
     "start_time": "2021-10-28T18:35:42.103901",
     "status": "completed"
    },
    "tags": []
   },
   "outputs": [
    {
     "name": "stdout",
     "output_type": "stream",
     "text": [
      "sample X:  ['Confidence', 'in', 'the', 'pound', 'is', 'widely', 'expected', 'to', 'take', 'another', 'sharp', 'dive', 'if', 'trade', 'figures', 'for', 'September', ',', 'due', 'for', 'release', 'tomorrow', ',', 'fail', 'to', 'show', 'a', 'substantial', 'improvement', 'from', 'July', 'and', 'August', \"'s\", 'near-record', 'deficits', '.'] \n",
      "\n",
      "sample Y:  ['NOUN', 'ADP', 'DET', 'NOUN', 'VERB', 'ADV', 'VERB', 'PRT', 'VERB', 'DET', 'ADJ', 'NOUN', 'ADP', 'NOUN', 'NOUN', 'ADP', 'NOUN', '.', 'ADJ', 'ADP', 'NOUN', 'NOUN', '.', 'VERB', 'PRT', 'VERB', 'DET', 'ADJ', 'NOUN', 'ADP', 'NOUN', 'CONJ', 'NOUN', 'PRT', 'ADJ', 'NOUN', '.'] \n",
      "\n",
      "Length of first input sequence  : 37\n",
      "Length of first output sequence : 37\n"
     ]
    }
   ],
   "source": [
    "print('sample X: ', X[0], '\\n')\n",
    "print('sample Y: ', Y[0], '\\n')\n",
    "\n",
    "print(\"Length of first input sequence  : {}\".format(len(X[0])))\n",
    "print(\"Length of first output sequence : {}\".format(len(Y[0])))"
   ]
  },
  {
   "cell_type": "code",
   "execution_count": 6,
   "id": "e457d068",
   "metadata": {
    "execution": {
     "iopub.execute_input": "2021-10-28T18:35:42.196859Z",
     "iopub.status.busy": "2021-10-28T18:35:42.191589Z",
     "iopub.status.idle": "2021-10-28T18:35:45.509728Z",
     "shell.execute_reply": "2021-10-28T18:35:45.509213Z",
     "shell.execute_reply.started": "2021-10-28T18:26:54.597018Z"
    },
    "papermill": {
     "duration": 3.356064,
     "end_time": "2021-10-28T18:35:45.509851",
     "exception": false,
     "start_time": "2021-10-28T18:35:42.153787",
     "status": "completed"
    },
    "tags": []
   },
   "outputs": [],
   "source": [
    "word_tokenizer = Tokenizer()\n",
    "word_tokenizer.fit_on_texts(X)\n",
    "X_encoded = word_tokenizer.texts_to_sequences(X)\n",
    "\n",
    "tag_tokenizer = Tokenizer()\n",
    "tag_tokenizer.fit_on_texts(Y)\n",
    "TAGS = {v: k for k, v in tag_tokenizer.word_index.items()}\n",
    "Y_encoded = tag_tokenizer.texts_to_sequences(Y)"
   ]
  },
  {
   "cell_type": "code",
   "execution_count": 7,
   "id": "dfe2d7aa",
   "metadata": {
    "execution": {
     "iopub.execute_input": "2021-10-28T18:35:45.556515Z",
     "iopub.status.busy": "2021-10-28T18:35:45.555079Z",
     "iopub.status.idle": "2021-10-28T18:35:45.561332Z",
     "shell.execute_reply": "2021-10-28T18:35:45.560629Z",
     "shell.execute_reply.started": "2021-10-28T18:26:58.004299Z"
    },
    "papermill": {
     "duration": 0.030802,
     "end_time": "2021-10-28T18:35:45.561488",
     "exception": false,
     "start_time": "2021-10-28T18:35:45.530686",
     "status": "completed"
    },
    "tags": []
   },
   "outputs": [
    {
     "name": "stdout",
     "output_type": "stream",
     "text": [
      "{1: 'noun',\n",
      " 2: 'verb',\n",
      " 3: '.',\n",
      " 4: 'adp',\n",
      " 5: 'det',\n",
      " 6: 'adj',\n",
      " 7: 'adv',\n",
      " 8: 'pron',\n",
      " 9: 'conj',\n",
      " 10: 'prt',\n",
      " 11: 'num',\n",
      " 12: 'x'}\n"
     ]
    }
   ],
   "source": [
    "pprint.pprint(TAGS)"
   ]
  },
  {
   "cell_type": "code",
   "execution_count": 8,
   "id": "14c98431",
   "metadata": {
    "execution": {
     "iopub.execute_input": "2021-10-28T18:35:45.611187Z",
     "iopub.status.busy": "2021-10-28T18:35:45.610391Z",
     "iopub.status.idle": "2021-10-28T18:35:45.614604Z",
     "shell.execute_reply": "2021-10-28T18:35:45.615015Z",
     "shell.execute_reply.started": "2021-10-28T18:26:58.015011Z"
    },
    "papermill": {
     "duration": 0.032745,
     "end_time": "2021-10-28T18:35:45.615155",
     "exception": false,
     "start_time": "2021-10-28T18:35:45.582410",
     "status": "completed"
    },
    "tags": []
   },
   "outputs": [
    {
     "name": "stdout",
     "output_type": "stream",
     "text": [
      "** Raw data point ** \n",
      " ---------------------------------------------------------------------------------------------------- \n",
      "\n",
      "X:  ['Confidence', 'in', 'the', 'pound', 'is', 'widely', 'expected', 'to', 'take', 'another', 'sharp', 'dive', 'if', 'trade', 'figures', 'for', 'September', ',', 'due', 'for', 'release', 'tomorrow', ',', 'fail', 'to', 'show', 'a', 'substantial', 'improvement', 'from', 'July', 'and', 'August', \"'s\", 'near-record', 'deficits', '.'] \n",
      "\n",
      "Y:  ['NOUN', 'ADP', 'DET', 'NOUN', 'VERB', 'ADV', 'VERB', 'PRT', 'VERB', 'DET', 'ADJ', 'NOUN', 'ADP', 'NOUN', 'NOUN', 'ADP', 'NOUN', '.', 'ADJ', 'ADP', 'NOUN', 'NOUN', '.', 'VERB', 'PRT', 'VERB', 'DET', 'ADJ', 'NOUN', 'ADP', 'NOUN', 'CONJ', 'NOUN', 'PRT', 'ADJ', 'NOUN', '.'] \n",
      "\n",
      "\n",
      "** Encoded data point ** \n",
      " ---------------------------------------------------------------------------------------------------- \n",
      "\n",
      "X:  [1871, 8, 1, 3113, 11, 1742, 375, 6, 162, 150, 1402, 4652, 58, 595, 822, 10, 1168, 2, 518, 10, 2542, 1925, 2, 3268, 6, 354, 7, 1554, 2274, 26, 1289, 5, 1233, 64, 23383, 19006, 3] \n",
      "\n",
      "Y:  [1, 4, 5, 1, 2, 7, 2, 10, 2, 5, 6, 1, 4, 1, 1, 4, 1, 3, 6, 4, 1, 1, 3, 2, 10, 2, 5, 6, 1, 4, 1, 9, 1, 10, 6, 1, 3] \n",
      "\n",
      "length X encoded:  37 \n",
      "\n",
      "length Y encoded:  37 \n",
      "\n"
     ]
    }
   ],
   "source": [
    "print(\"** Raw data point **\", \"\\n\", \"-\"*100, \"\\n\")\n",
    "print('X: ', X[0], '\\n')\n",
    "print('Y: ', Y[0], '\\n')\n",
    "\n",
    "print()\n",
    "print(\"** Encoded data point **\", \"\\n\", \"-\"*100, \"\\n\")\n",
    "print('X: ', X_encoded[0], '\\n')\n",
    "print('Y: ', Y_encoded[0], '\\n')\n",
    "print('length X encoded: ', len(X_encoded[0]), '\\n')\n",
    "print('length Y encoded: ', len(Y_encoded[0]), '\\n')"
   ]
  },
  {
   "cell_type": "code",
   "execution_count": 9,
   "id": "b62feac9",
   "metadata": {
    "execution": {
     "iopub.execute_input": "2021-10-28T18:35:45.680838Z",
     "iopub.status.busy": "2021-10-28T18:35:45.679575Z",
     "iopub.status.idle": "2021-10-28T18:35:47.090096Z",
     "shell.execute_reply": "2021-10-28T18:35:47.089624Z",
     "shell.execute_reply.started": "2021-10-28T18:26:58.029461Z"
    },
    "papermill": {
     "duration": 1.454233,
     "end_time": "2021-10-28T18:35:47.090254",
     "exception": false,
     "start_time": "2021-10-28T18:35:45.636021",
     "status": "completed"
    },
    "tags": []
   },
   "outputs": [
    {
     "name": "stdout",
     "output_type": "stream",
     "text": [
      "Length of longest sentence: 180\n"
     ]
    }
   ],
   "source": [
    "lengths = [len(seq) for seq in X_encoded]\n",
    "print(\"Length of longest sentence: {}\".format(max(lengths)))\n",
    "\n",
    "max_length = max(lengths)\n",
    "trunc_type = 'post'\n",
    "pad_type = 'post'\n",
    "\n",
    "X_padded = pad_sequences(X_encoded, maxlen=max_length, truncating=trunc_type, padding=pad_type)\n",
    "Y_padded = pad_sequences(Y_encoded, maxlen=max_length, truncating=trunc_type, padding=pad_type, value = -1)"
   ]
  },
  {
   "cell_type": "code",
   "execution_count": 10,
   "id": "873942f0",
   "metadata": {
    "execution": {
     "iopub.execute_input": "2021-10-28T18:35:47.138633Z",
     "iopub.status.busy": "2021-10-28T18:35:47.137517Z",
     "iopub.status.idle": "2021-10-28T18:35:47.604110Z",
     "shell.execute_reply": "2021-10-28T18:35:47.603657Z",
     "shell.execute_reply.started": "2021-10-28T18:26:59.289573Z"
    },
    "papermill": {
     "duration": 0.492287,
     "end_time": "2021-10-28T18:35:47.604262",
     "exception": false,
     "start_time": "2021-10-28T18:35:47.111975",
     "status": "completed"
    },
    "tags": []
   },
   "outputs": [],
   "source": [
    "Y = to_categorical(Y_padded)"
   ]
  },
  {
   "cell_type": "code",
   "execution_count": 11,
   "id": "61a89d1f",
   "metadata": {
    "execution": {
     "iopub.execute_input": "2021-10-28T18:35:47.652181Z",
     "iopub.status.busy": "2021-10-28T18:35:47.651203Z",
     "iopub.status.idle": "2021-10-28T18:35:47.888347Z",
     "shell.execute_reply": "2021-10-28T18:35:47.889139Z",
     "shell.execute_reply.started": "2021-10-28T18:26:59.748184Z"
    },
    "papermill": {
     "duration": 0.263606,
     "end_time": "2021-10-28T18:35:47.889312",
     "exception": false,
     "start_time": "2021-10-28T18:35:47.625706",
     "status": "completed"
    },
    "tags": []
   },
   "outputs": [],
   "source": [
    "TEST_SIZE = 0.15\n",
    "X_train, X_validation, Y_train, Y_validation = train_test_split(X_padded, Y, test_size=TEST_SIZE, shuffle=False)\n",
    "\n",
    "VALID_SIZE = 0.4\n",
    "X_validation, X_test, Y_validation, Y_test = train_test_split(X_validation, Y_validation, test_size=VALID_SIZE, shuffle=False)"
   ]
  },
  {
   "cell_type": "code",
   "execution_count": 12,
   "id": "5f672a4a",
   "metadata": {
    "execution": {
     "iopub.execute_input": "2021-10-28T18:35:47.944430Z",
     "iopub.status.busy": "2021-10-28T18:35:47.943514Z",
     "iopub.status.idle": "2021-10-28T18:35:47.947246Z",
     "shell.execute_reply": "2021-10-28T18:35:47.947744Z",
     "shell.execute_reply.started": "2021-10-28T18:26:59.992439Z"
    },
    "papermill": {
     "duration": 0.035171,
     "end_time": "2021-10-28T18:35:47.947893",
     "exception": false,
     "start_time": "2021-10-28T18:35:47.912722",
     "status": "completed"
    },
    "tags": []
   },
   "outputs": [
    {
     "name": "stdout",
     "output_type": "stream",
     "text": [
      "TRAINING DATA\n",
      "Shape of input sequences: (58044, 180)\n",
      "Shape of output sequences: (58044, 180, 13)\n",
      "--------------------------------------------------\n",
      "VALIDATION DATA\n",
      "Shape of input sequences: (6146, 180)\n",
      "Shape of output sequences: (6146, 180, 13)\n",
      "--------------------------------------------------\n",
      "TESTING DATA\n",
      "Shape of input sequences: (4098, 180)\n",
      "Shape of output sequences: (4098, 180, 13)\n"
     ]
    }
   ],
   "source": [
    "# print number of samples in each set\n",
    "print(\"TRAINING DATA\")\n",
    "print('Shape of input sequences: {}'.format(X_train.shape))\n",
    "print('Shape of output sequences: {}'.format(Y_train.shape))\n",
    "print(\"-\"*50)\n",
    "print(\"VALIDATION DATA\")\n",
    "print('Shape of input sequences: {}'.format(X_validation.shape))\n",
    "print('Shape of output sequences: {}'.format(Y_validation.shape))\n",
    "print(\"-\"*50)\n",
    "print(\"TESTING DATA\")\n",
    "print('Shape of input sequences: {}'.format(X_test.shape))\n",
    "print('Shape of output sequences: {}'.format(Y_test.shape))"
   ]
  },
  {
   "cell_type": "code",
   "execution_count": 13,
   "id": "c702c0a9",
   "metadata": {
    "execution": {
     "iopub.execute_input": "2021-10-28T18:35:48.006097Z",
     "iopub.status.busy": "2021-10-28T18:35:48.005456Z",
     "iopub.status.idle": "2021-10-28T18:35:50.627829Z",
     "shell.execute_reply": "2021-10-28T18:35:50.627006Z",
     "shell.execute_reply.started": "2021-10-28T18:27:00.005168Z"
    },
    "papermill": {
     "duration": 2.654222,
     "end_time": "2021-10-28T18:35:50.627957",
     "exception": false,
     "start_time": "2021-10-28T18:35:47.973735",
     "status": "completed"
    },
    "tags": []
   },
   "outputs": [
    {
     "name": "stderr",
     "output_type": "stream",
     "text": [
      "2021-10-28 18:35:48.069589: I tensorflow/stream_executor/cuda/cuda_gpu_executor.cc:937] successful NUMA node read from SysFS had negative value (-1), but there must be at least one NUMA node, so returning NUMA node zero\n",
      "2021-10-28 18:35:48.162507: I tensorflow/stream_executor/cuda/cuda_gpu_executor.cc:937] successful NUMA node read from SysFS had negative value (-1), but there must be at least one NUMA node, so returning NUMA node zero\n",
      "2021-10-28 18:35:48.163225: I tensorflow/stream_executor/cuda/cuda_gpu_executor.cc:937] successful NUMA node read from SysFS had negative value (-1), but there must be at least one NUMA node, so returning NUMA node zero\n",
      "2021-10-28 18:35:48.165073: I tensorflow/core/platform/cpu_feature_guard.cc:142] This TensorFlow binary is optimized with oneAPI Deep Neural Network Library (oneDNN) to use the following CPU instructions in performance-critical operations:  AVX2 AVX512F FMA\n",
      "To enable them in other operations, rebuild TensorFlow with the appropriate compiler flags.\n",
      "2021-10-28 18:35:48.166190: I tensorflow/stream_executor/cuda/cuda_gpu_executor.cc:937] successful NUMA node read from SysFS had negative value (-1), but there must be at least one NUMA node, so returning NUMA node zero\n",
      "2021-10-28 18:35:48.167066: I tensorflow/stream_executor/cuda/cuda_gpu_executor.cc:937] successful NUMA node read from SysFS had negative value (-1), but there must be at least one NUMA node, so returning NUMA node zero\n",
      "2021-10-28 18:35:48.167916: I tensorflow/stream_executor/cuda/cuda_gpu_executor.cc:937] successful NUMA node read from SysFS had negative value (-1), but there must be at least one NUMA node, so returning NUMA node zero\n",
      "2021-10-28 18:35:49.992586: I tensorflow/stream_executor/cuda/cuda_gpu_executor.cc:937] successful NUMA node read from SysFS had negative value (-1), but there must be at least one NUMA node, so returning NUMA node zero\n",
      "2021-10-28 18:35:49.993376: I tensorflow/stream_executor/cuda/cuda_gpu_executor.cc:937] successful NUMA node read from SysFS had negative value (-1), but there must be at least one NUMA node, so returning NUMA node zero\n",
      "2021-10-28 18:35:49.993995: I tensorflow/stream_executor/cuda/cuda_gpu_executor.cc:937] successful NUMA node read from SysFS had negative value (-1), but there must be at least one NUMA node, so returning NUMA node zero\n",
      "2021-10-28 18:35:49.994594: I tensorflow/core/common_runtime/gpu/gpu_device.cc:1510] Created device /job:localhost/replica:0/task:0/device:GPU:0 with 15403 MB memory:  -> device: 0, name: Tesla P100-PCIE-16GB, pci bus id: 0000:00:04.0, compute capability: 6.0\n"
     ]
    }
   ],
   "source": [
    "embedding_dim = 300\n",
    "vocab_size = len(word_tokenizer.word_index) + 1\n",
    "num_classes = Y.shape[2]\n",
    "\n",
    "model = Sequential()\n",
    "model.add(Embedding(vocab_size, embedding_dim, input_length=max_length))\n",
    "model.add(LSTM(64, return_sequences=True))\n",
    "model.add(Dense(32, activation=\"relu\"))\n",
    "model.add(Dense(16, activation=\"relu\"))\n",
    "model.add(Dense(num_classes, activation='softmax'))\n",
    "model_save = ModelCheckpoint('weights.h5', \n",
    "                              save_best_only = True, \n",
    "                              save_weights_only = True,\n",
    "                              monitor = 'val_accuracy', \n",
    "                              mode = 'max', verbose = 1)"
   ]
  },
  {
   "cell_type": "code",
   "execution_count": 14,
   "id": "c44be7da",
   "metadata": {
    "execution": {
     "iopub.execute_input": "2021-10-28T18:35:50.678037Z",
     "iopub.status.busy": "2021-10-28T18:35:50.677287Z",
     "iopub.status.idle": "2021-10-28T18:35:50.686407Z",
     "shell.execute_reply": "2021-10-28T18:35:50.686786Z",
     "shell.execute_reply.started": "2021-10-28T18:27:00.263839Z"
    },
    "papermill": {
     "duration": 0.036231,
     "end_time": "2021-10-28T18:35:50.686914",
     "exception": false,
     "start_time": "2021-10-28T18:35:50.650683",
     "status": "completed"
    },
    "tags": []
   },
   "outputs": [],
   "source": [
    "optimizer = tf.keras.optimizers.Adam(lr = 0.0001)\n",
    "model.compile(\n",
    "    loss = \"categorical_crossentropy\",\n",
    "    optimizer = optimizer,\n",
    "    metrics = [\"accuracy\"]\n",
    ")"
   ]
  },
  {
   "cell_type": "code",
   "execution_count": 15,
   "id": "2a942d16",
   "metadata": {
    "execution": {
     "iopub.execute_input": "2021-10-28T18:35:50.737456Z",
     "iopub.status.busy": "2021-10-28T18:35:50.736150Z",
     "iopub.status.idle": "2021-10-28T18:35:50.742683Z",
     "shell.execute_reply": "2021-10-28T18:35:50.742074Z",
     "shell.execute_reply.started": "2021-10-28T18:27:00.275102Z"
    },
    "papermill": {
     "duration": 0.033817,
     "end_time": "2021-10-28T18:35:50.742816",
     "exception": false,
     "start_time": "2021-10-28T18:35:50.708999",
     "status": "completed"
    },
    "scrolled": true,
    "tags": []
   },
   "outputs": [
    {
     "name": "stdout",
     "output_type": "stream",
     "text": [
      "Model: \"sequential\"\n",
      "_________________________________________________________________\n",
      "Layer (type)                 Output Shape              Param #   \n",
      "=================================================================\n",
      "embedding (Embedding)        (None, 180, 300)          17085900  \n",
      "_________________________________________________________________\n",
      "lstm (LSTM)                  (None, 180, 64)           93440     \n",
      "_________________________________________________________________\n",
      "dense (Dense)                (None, 180, 32)           2080      \n",
      "_________________________________________________________________\n",
      "dense_1 (Dense)              (None, 180, 16)           528       \n",
      "_________________________________________________________________\n",
      "dense_2 (Dense)              (None, 180, 13)           221       \n",
      "=================================================================\n",
      "Total params: 17,182,169\n",
      "Trainable params: 17,182,169\n",
      "Non-trainable params: 0\n",
      "_________________________________________________________________\n"
     ]
    }
   ],
   "source": [
    "model.summary()"
   ]
  },
  {
   "cell_type": "code",
   "execution_count": 16,
   "id": "bee2224c",
   "metadata": {
    "execution": {
     "iopub.execute_input": "2021-10-28T18:35:50.792663Z",
     "iopub.status.busy": "2021-10-28T18:35:50.792174Z",
     "iopub.status.idle": "2021-10-28T18:39:15.209762Z",
     "shell.execute_reply": "2021-10-28T18:39:15.209274Z",
     "shell.execute_reply.started": "2021-10-28T18:27:00.287649Z"
    },
    "papermill": {
     "duration": 204.444121,
     "end_time": "2021-10-28T18:39:15.209909",
     "exception": false,
     "start_time": "2021-10-28T18:35:50.765788",
     "status": "completed"
    },
    "tags": []
   },
   "outputs": [
    {
     "name": "stderr",
     "output_type": "stream",
     "text": [
      "2021-10-28 18:35:51.785942: I tensorflow/compiler/mlir/mlir_graph_optimization_pass.cc:185] None of the MLIR Optimization Passes are enabled (registered 2)\n"
     ]
    },
    {
     "name": "stdout",
     "output_type": "stream",
     "text": [
      "Epoch 1/15\n"
     ]
    },
    {
     "name": "stderr",
     "output_type": "stream",
     "text": [
      "2021-10-28 18:35:54.086786: I tensorflow/stream_executor/cuda/cuda_dnn.cc:369] Loaded cuDNN version 8005\n"
     ]
    },
    {
     "name": "stdout",
     "output_type": "stream",
     "text": [
      "454/454 [==============================] - 13s 22ms/step - loss: 0.9137 - accuracy: 0.8847 - val_loss: 0.2325 - val_accuracy: 0.9297\n",
      "\n",
      "Epoch 00001: val_accuracy improved from -inf to 0.92974, saving model to weights.h5\n",
      "Epoch 2/15\n",
      "454/454 [==============================] - 9s 21ms/step - loss: 0.2508 - accuracy: 0.9191 - val_loss: 0.1598 - val_accuracy: 0.9482\n",
      "\n",
      "Epoch 00002: val_accuracy improved from 0.92974 to 0.94817, saving model to weights.h5\n",
      "Epoch 3/15\n",
      "454/454 [==============================] - 9s 20ms/step - loss: 0.1633 - accuracy: 0.9504 - val_loss: 0.0923 - val_accuracy: 0.9704\n",
      "\n",
      "Epoch 00003: val_accuracy improved from 0.94817 to 0.97039, saving model to weights.h5\n",
      "Epoch 4/15\n",
      "454/454 [==============================] - 9s 21ms/step - loss: 0.0819 - accuracy: 0.9776 - val_loss: 0.0468 - val_accuracy: 0.9890\n",
      "\n",
      "Epoch 00004: val_accuracy improved from 0.97039 to 0.98896, saving model to weights.h5\n",
      "Epoch 5/15\n",
      "454/454 [==============================] - 10s 21ms/step - loss: 0.0416 - accuracy: 0.9904 - val_loss: 0.0292 - val_accuracy: 0.9930\n",
      "\n",
      "Epoch 00005: val_accuracy improved from 0.98896 to 0.99297, saving model to weights.h5\n",
      "Epoch 6/15\n",
      "454/454 [==============================] - 9s 21ms/step - loss: 0.0269 - accuracy: 0.9933 - val_loss: 0.0223 - val_accuracy: 0.9941\n",
      "\n",
      "Epoch 00006: val_accuracy improved from 0.99297 to 0.99408, saving model to weights.h5\n",
      "Epoch 7/15\n",
      "454/454 [==============================] - 9s 20ms/step - loss: 0.0204 - accuracy: 0.9943 - val_loss: 0.0192 - val_accuracy: 0.9945\n",
      "\n",
      "Epoch 00007: val_accuracy improved from 0.99408 to 0.99446, saving model to weights.h5\n",
      "Epoch 8/15\n",
      "454/454 [==============================] - 9s 21ms/step - loss: 0.0170 - accuracy: 0.9949 - val_loss: 0.0174 - val_accuracy: 0.9947\n",
      "\n",
      "Epoch 00008: val_accuracy improved from 0.99446 to 0.99471, saving model to weights.h5\n",
      "Epoch 9/15\n",
      "454/454 [==============================] - 10s 21ms/step - loss: 0.0148 - accuracy: 0.9954 - val_loss: 0.0165 - val_accuracy: 0.9949\n",
      "\n",
      "Epoch 00009: val_accuracy improved from 0.99471 to 0.99494, saving model to weights.h5\n",
      "Epoch 10/15\n",
      "454/454 [==============================] - 9s 21ms/step - loss: 0.0133 - accuracy: 0.9957 - val_loss: 0.0159 - val_accuracy: 0.9951\n",
      "\n",
      "Epoch 00010: val_accuracy improved from 0.99494 to 0.99514, saving model to weights.h5\n",
      "Epoch 11/15\n",
      "454/454 [==============================] - 9s 21ms/step - loss: 0.0122 - accuracy: 0.9960 - val_loss: 0.0157 - val_accuracy: 0.9952\n",
      "\n",
      "Epoch 00011: val_accuracy improved from 0.99514 to 0.99517, saving model to weights.h5\n",
      "Epoch 12/15\n",
      "454/454 [==============================] - 9s 21ms/step - loss: 0.0113 - accuracy: 0.9962 - val_loss: 0.0155 - val_accuracy: 0.9952\n",
      "\n",
      "Epoch 00012: val_accuracy improved from 0.99517 to 0.99518, saving model to weights.h5\n",
      "Epoch 13/15\n",
      "454/454 [==============================] - 9s 21ms/step - loss: 0.0106 - accuracy: 0.9964 - val_loss: 0.0154 - val_accuracy: 0.9952\n",
      "\n",
      "Epoch 00013: val_accuracy improved from 0.99518 to 0.99525, saving model to weights.h5\n",
      "Epoch 14/15\n",
      "454/454 [==============================] - 9s 21ms/step - loss: 0.0100 - accuracy: 0.9966 - val_loss: 0.0154 - val_accuracy: 0.9953\n",
      "\n",
      "Epoch 00014: val_accuracy improved from 0.99525 to 0.99525, saving model to weights.h5\n",
      "Epoch 15/15\n",
      "454/454 [==============================] - 9s 21ms/step - loss: 0.0095 - accuracy: 0.9967 - val_loss: 0.0156 - val_accuracy: 0.9952\n",
      "\n",
      "Epoch 00015: val_accuracy did not improve from 0.99525\n"
     ]
    }
   ],
   "source": [
    "history = model.fit(X_train, Y_train, batch_size=128, epochs=15, validation_data=(X_validation, Y_validation),callbacks = [model_save])"
   ]
  },
  {
   "cell_type": "code",
   "execution_count": 17,
   "id": "1c278993",
   "metadata": {
    "execution": {
     "iopub.execute_input": "2021-10-28T18:39:16.455370Z",
     "iopub.status.busy": "2021-10-28T18:39:16.454471Z",
     "iopub.status.idle": "2021-10-28T18:39:17.327694Z",
     "shell.execute_reply": "2021-10-28T18:39:17.328751Z",
     "shell.execute_reply.started": "2021-10-28T18:30:25.253703Z"
    },
    "papermill": {
     "duration": 1.499509,
     "end_time": "2021-10-28T18:39:17.328943",
     "exception": false,
     "start_time": "2021-10-28T18:39:15.829434",
     "status": "completed"
    },
    "tags": []
   },
   "outputs": [
    {
     "name": "stdout",
     "output_type": "stream",
     "text": [
      "129/129 [==============================] - 1s 6ms/step - loss: 0.0154 - accuracy: 0.9951\n",
      "Loss: 0.01541619747877121,\n",
      "Accuracy: 0.9951466917991638\n"
     ]
    }
   ],
   "source": [
    "loss, accuracy = model.evaluate(X_test, Y_test, verbose = 1)\n",
    "print(\"Loss: {0},\\nAccuracy: {1}\".format(loss, accuracy))"
   ]
  },
  {
   "cell_type": "code",
   "execution_count": 18,
   "id": "9caabb54",
   "metadata": {
    "execution": {
     "iopub.execute_input": "2021-10-28T18:39:18.582037Z",
     "iopub.status.busy": "2021-10-28T18:39:18.581231Z",
     "iopub.status.idle": "2021-10-28T18:39:18.990940Z",
     "shell.execute_reply": "2021-10-28T18:39:18.991332Z",
     "shell.execute_reply.started": "2021-10-28T18:30:26.133932Z"
    },
    "papermill": {
     "duration": 1.039557,
     "end_time": "2021-10-28T18:39:18.991479",
     "exception": false,
     "start_time": "2021-10-28T18:39:17.951922",
     "status": "completed"
    },
    "tags": []
   },
   "outputs": [
    {
     "name": "stdout",
     "output_type": "stream",
     "text": [
      "dict_keys(['loss', 'accuracy', 'val_loss', 'val_accuracy'])\n"
     ]
    },
    {
     "data": {
      "image/png": "[encoded data removed]",
      "text/plain": [
       "<Figure size 432x288 with 1 Axes>"
      ]
     },
     "metadata": {
      "needs_background": "light"
     },
     "output_type": "display_data"
    },
    {
     "data": {
      "image/png": "[encoded data removed]",
      "text/plain": [
       "<Figure size 432x288 with 1 Axes>"
      ]
     },
     "metadata": {
      "needs_background": "light"
     },
     "output_type": "display_data"
    }
   ],
   "source": [
    "print(history.history.keys())\n",
    "plt.axes().set(facecolor =\"white\")\n",
    "plt.plot(history.history['accuracy'],color='c')\n",
    "plt.plot(history.history['val_accuracy'],color='m')\n",
    "plt.title('model accuracy').set_color('white')\n",
    "plt.ylabel('accuracy').set_color('white')\n",
    "plt.xlabel('epoch').set_color('white')\n",
    "plt.legend(['train', 'validation'], loc='upper left')\n",
    "\n",
    "plt.show()\n",
    "\n",
    "plt.axes().set(facecolor =\"white\")\n",
    "plt.plot(history.history['loss'])\n",
    "plt.plot(history.history['val_loss'])\n",
    "plt.legend(['train', 'validation'], loc='upper left')\n",
    "plt.title('model loss').set_color('white')\n",
    "plt.ylabel('loss').set_color('white')\n",
    "plt.xlabel('epoch').set_color('white')\n",
    "plt.show()"
   ]
  },
  {
   "cell_type": "code",
   "execution_count": 19,
   "id": "934d2dec",
   "metadata": {
    "execution": {
     "iopub.execute_input": "2021-10-28T18:39:20.248776Z",
     "iopub.status.busy": "2021-10-28T18:39:20.247972Z",
     "iopub.status.idle": "2021-10-28T18:39:20.250451Z",
     "shell.execute_reply": "2021-10-28T18:39:20.250002Z",
     "shell.execute_reply.started": "2021-10-28T18:30:26.552034Z"
    },
    "papermill": {
     "duration": 0.63571,
     "end_time": "2021-10-28T18:39:20.250567",
     "exception": false,
     "start_time": "2021-10-28T18:39:19.614857",
     "status": "completed"
    },
    "tags": []
   },
   "outputs": [],
   "source": [
    "def generate_POS(orig_sentence):\n",
    "    orig_sentence = [orig_sentence.split(\" \")]\n",
    "    sentence = word_tokenizer.texts_to_sequences(orig_sentence)\n",
    "    sentence = pad_sequences(sentence, maxlen=max_length, truncating=trunc_type, padding=pad_type)\n",
    "    \n",
    "    predict_x=model.predict(sentence[0]) \n",
    "    pos = []\n",
    "    for i in range(len(orig_sentence[0])):\n",
    "        index = np.argmax(predict_x[i], axis=1)\n",
    "        pos.append(TAGS[index[0]].upper())\n",
    "        \n",
    "    return list(zip(orig_sentence[0],pos))"
   ]
  },
  {
   "cell_type": "code",
   "execution_count": 20,
   "id": "e1ccfd60",
   "metadata": {
    "execution": {
     "iopub.execute_input": "2021-10-28T18:39:21.692139Z",
     "iopub.status.busy": "2021-10-28T18:39:21.691188Z",
     "iopub.status.idle": "2021-10-28T18:39:21.698066Z",
     "shell.execute_reply": "2021-10-28T18:39:21.692969Z",
     "shell.execute_reply.started": "2021-10-28T18:30:26.560397Z"
    },
    "papermill": {
     "duration": 0.827106,
     "end_time": "2021-10-28T18:39:21.698283",
     "exception": false,
     "start_time": "2021-10-28T18:39:20.871177",
     "status": "completed"
    },
    "tags": []
   },
   "outputs": [
    {
     "name": "stdout",
     "output_type": "stream",
     "text": [
      "{1: 'noun',\n",
      " 2: 'verb',\n",
      " 3: '.',\n",
      " 4: 'adp',\n",
      " 5: 'det',\n",
      " 6: 'adj',\n",
      " 7: 'adv',\n",
      " 8: 'pron',\n",
      " 9: 'conj',\n",
      " 10: 'prt',\n",
      " 11: 'num',\n",
      " 12: 'x'}\n"
     ]
    }
   ],
   "source": [
    "pprint.pprint(TAGS)"
   ]
  },
  {
   "cell_type": "code",
   "execution_count": 21,
   "id": "fe00f6d9",
   "metadata": {
    "execution": {
     "iopub.execute_input": "2021-10-28T18:39:23.215337Z",
     "iopub.status.busy": "2021-10-28T18:39:23.214553Z",
     "iopub.status.idle": "2021-10-28T18:39:23.217362Z",
     "shell.execute_reply": "2021-10-28T18:39:23.217778Z",
     "shell.execute_reply.started": "2021-10-28T18:30:26.573878Z"
    },
    "papermill": {
     "duration": 0.632928,
     "end_time": "2021-10-28T18:39:23.217921",
     "exception": false,
     "start_time": "2021-10-28T18:39:22.584993",
     "status": "completed"
    },
    "tags": []
   },
   "outputs": [
    {
     "name": "stdout",
     "output_type": "stream",
     "text": [
      "When he was through , the court members asked many questions , then the chairman said they would like to hear his manager 's side and talk to witnesses .\n"
     ]
    }
   ],
   "source": [
    "sent = \" \".join(X[101])\n",
    "print(sent)"
   ]
  },
  {
   "cell_type": "code",
   "execution_count": 22,
   "id": "6b1ebbd4",
   "metadata": {
    "execution": {
     "iopub.execute_input": "2021-10-28T18:39:24.509998Z",
     "iopub.status.busy": "2021-10-28T18:39:24.509196Z",
     "iopub.status.idle": "2021-10-28T18:39:24.903639Z",
     "shell.execute_reply": "2021-10-28T18:39:24.904323Z",
     "shell.execute_reply.started": "2021-10-28T18:30:26.581753Z"
    },
    "papermill": {
     "duration": 1.068574,
     "end_time": "2021-10-28T18:39:24.904483",
     "exception": false,
     "start_time": "2021-10-28T18:39:23.835909",
     "status": "completed"
    },
    "tags": []
   },
   "outputs": [
    {
     "data": {
      "text/plain": [
       "[('When', 'ADV'),\n",
       " ('he', 'PRON'),\n",
       " ('was', 'VERB'),\n",
       " ('through', 'ADP'),\n",
       " (',', '.'),\n",
       " ('the', 'DET'),\n",
       " ('court', 'NOUN'),\n",
       " ('members', 'NOUN'),\n",
       " ('asked', 'VERB'),\n",
       " ('many', 'ADJ'),\n",
       " ('questions', 'NOUN'),\n",
       " (',', '.'),\n",
       " ('then', 'ADV'),\n",
       " ('the', 'DET'),\n",
       " ('chairman', 'NOUN'),\n",
       " ('said', 'VERB'),\n",
       " ('they', 'PRON'),\n",
       " ('would', 'VERB'),\n",
       " ('like', 'ADP'),\n",
       " ('to', 'ADP'),\n",
       " ('hear', 'VERB'),\n",
       " ('his', 'DET'),\n",
       " ('manager', 'NOUN'),\n",
       " (\"'s\", 'PRT'),\n",
       " ('side', 'NOUN'),\n",
       " ('and', 'CONJ'),\n",
       " ('talk', 'NOUN'),\n",
       " ('to', 'ADP'),\n",
       " ('witnesses', 'NOUN'),\n",
       " ('.', '.')]"
      ]
     },
     "execution_count": 22,
     "metadata": {},
     "output_type": "execute_result"
    }
   ],
   "source": [
    "generate_POS(sent)"
   ]
  },
  {
   "cell_type": "code",
   "execution_count": 23,
   "id": "45ab7658",
   "metadata": {
    "execution": {
     "iopub.execute_input": "2021-10-28T18:39:26.422056Z",
     "iopub.status.busy": "2021-10-28T18:39:26.421212Z",
     "iopub.status.idle": "2021-10-28T18:39:26.469165Z",
     "shell.execute_reply": "2021-10-28T18:39:26.469638Z",
     "shell.execute_reply.started": "2021-10-28T18:33:27.237422Z"
    },
    "papermill": {
     "duration": 0.943939,
     "end_time": "2021-10-28T18:39:26.469792",
     "exception": false,
     "start_time": "2021-10-28T18:39:25.525853",
     "status": "completed"
    },
    "tags": []
   },
   "outputs": [
    {
     "data": {
      "text/plain": [
       "[('I', 'PRON'), ('have', 'VERB'), ('no', 'DET'), ('money', 'NOUN')]"
      ]
     },
     "execution_count": 23,
     "metadata": {},
     "output_type": "execute_result"
    }
   ],
   "source": [
    "generate_POS(\"I have no money\")"
   ]
  },
  {
   "cell_type": "code",
   "execution_count": 24,
   "id": "be59f95e",
   "metadata": {
    "execution": {
     "iopub.execute_input": "2021-10-28T18:39:27.719235Z",
     "iopub.status.busy": "2021-10-28T18:39:27.718572Z",
     "iopub.status.idle": "2021-10-28T18:39:27.841268Z",
     "shell.execute_reply": "2021-10-28T18:39:27.841701Z",
     "shell.execute_reply.started": "2021-10-28T18:33:28.965948Z"
    },
    "papermill": {
     "duration": 0.750747,
     "end_time": "2021-10-28T18:39:27.841845",
     "exception": false,
     "start_time": "2021-10-28T18:39:27.091098",
     "status": "completed"
    },
    "tags": []
   },
   "outputs": [
    {
     "data": {
      "text/plain": [
       "[('I', 'PRON'), ('have', 'VERB'), ('no', 'DET'), ('money', 'NOUN')]"
      ]
     },
     "execution_count": 24,
     "metadata": {},
     "output_type": "execute_result"
    }
   ],
   "source": [
    "from nltk.tag import pos_tag\n",
    "from nltk.tokenize import word_tokenize\n",
    "\n",
    "pos_tag(word_tokenize(\"I have no money\"), tagset='universal')"
   ]
  },
  {
   "cell_type": "code",
   "execution_count": 25,
   "id": "2f884033",
   "metadata": {
    "execution": {
     "iopub.execute_input": "2021-10-28T18:39:29.108226Z",
     "iopub.status.busy": "2021-10-28T18:39:29.107382Z",
     "iopub.status.idle": "2021-10-28T18:39:29.163804Z",
     "shell.execute_reply": "2021-10-28T18:39:29.164484Z",
     "shell.execute_reply.started": "2021-10-28T18:34:21.324427Z"
    },
    "papermill": {
     "duration": 0.686483,
     "end_time": "2021-10-28T18:39:29.164635",
     "exception": false,
     "start_time": "2021-10-28T18:39:28.478152",
     "status": "completed"
    },
    "tags": []
   },
   "outputs": [
    {
     "data": {
      "text/plain": [
       "[('I', 'PRON'),\n",
       " ('eat', 'VERB'),\n",
       " ('a', 'DET'),\n",
       " ('lot', 'NOUN'),\n",
       " ('of', 'ADP'),\n",
       " ('fruits', 'NOUN')]"
      ]
     },
     "execution_count": 25,
     "metadata": {},
     "output_type": "execute_result"
    }
   ],
   "source": [
    "generate_POS(\"I eat a lot of fruits\")"
   ]
  },
  {
   "cell_type": "code",
   "execution_count": 26,
   "id": "49d938f0",
   "metadata": {
    "execution": {
     "iopub.execute_input": "2021-10-28T18:39:30.435669Z",
     "iopub.status.busy": "2021-10-28T18:39:30.434836Z",
     "iopub.status.idle": "2021-10-28T18:39:30.440110Z",
     "shell.execute_reply": "2021-10-28T18:39:30.439713Z",
     "shell.execute_reply.started": "2021-10-28T18:34:22.018705Z"
    },
    "papermill": {
     "duration": 0.640959,
     "end_time": "2021-10-28T18:39:30.440252",
     "exception": false,
     "start_time": "2021-10-28T18:39:29.799293",
     "status": "completed"
    },
    "tags": []
   },
   "outputs": [
    {
     "data": {
      "text/plain": [
       "[('I', 'PRON'),\n",
       " ('eat', 'VERB'),\n",
       " ('a', 'DET'),\n",
       " ('lot', 'NOUN'),\n",
       " ('of', 'ADP'),\n",
       " ('fruits', 'NOUN')]"
      ]
     },
     "execution_count": 26,
     "metadata": {},
     "output_type": "execute_result"
    }
   ],
   "source": [
    "pos_tag(word_tokenize(\"I eat a lot of fruits\"), tagset='universal')"
   ]
  },
  {
   "cell_type": "code",
   "execution_count": null,
   "id": "4fbd5ba8",
   "metadata": {
    "papermill": {
     "duration": 0.624164,
     "end_time": "2021-10-28T18:39:31.712591",
     "exception": false,
     "start_time": "2021-10-28T18:39:31.088427",
     "status": "completed"
    },
    "tags": []
   },
   "outputs": [],
   "source": []
  },
  {
   "cell_type": "code",
   "execution_count": null,
   "id": "f1747070",
   "metadata": {
    "papermill": {
     "duration": 0.622066,
     "end_time": "2021-10-28T18:39:32.973664",
     "exception": false,
     "start_time": "2021-10-28T18:39:32.351598",
     "status": "completed"
    },
    "tags": []
   },
   "outputs": [],
   "source": []
  }
 ],
 "metadata": {
  "kernelspec": {
   "display_name": "Python 3",
   "language": "python",
   "name": "python3"
  },
  "language_info": {
   "codemirror_mode": {
    "name": "ipython",
    "version": 3
   },
   "file_extension": ".py",
   "mimetype": "text/x-python",
   "name": "python",
   "nbconvert_exporter": "python",
   "pygments_lexer": "ipython3",
   "version": "3.7.10"
  },
  "papermill": {
   "default_parameters": {},
   "duration": 262.621339,
   "end_time": "2021-10-28T18:39:36.396803",
   "environment_variables": {},
   "exception": null,
   "input_path": "__notebook__.ipynb",
   "output_path": "__notebook__.ipynb",
   "parameters": {},
   "start_time": "2021-10-28T18:35:13.775464",
   "version": "2.3.3"
  }
 },
 "nbformat": 4,
 "nbformat_minor": 5
}
